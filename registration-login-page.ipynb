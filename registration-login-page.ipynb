{
 "cells": [
  {
   "cell_type": "code",
   "execution_count": 11,
   "metadata": {},
   "outputs": [],
   "source": [
    "import tkinter\n",
    "from tkinter import *\n",
    "from tkinter import messagebox\n",
    "#import regular expression and os\n",
    "import re\n",
    "import os\n",
    "\n"
   ]
  },
  {
   "cell_type": "code",
   "execution_count": 12,
   "metadata": {},
   "outputs": [],
   "source": [
    "#To create main window\n",
    "window=Tk()"
   ]
  },
  {
   "cell_type": "code",
   "execution_count": 13,
   "metadata": {},
   "outputs": [],
   "source": [
    "#callback function to validate phone number\n",
    "def validate_phoneno(user_phoneno):\n",
    "    if user_phoneno.isdigit():\n",
    "        return True\n",
    "    elif user_phoneno is \"\":\n",
    "        return True\n",
    "    else:\n",
    "        messagebox.showinfo('Information','Only digits are allowed for Phone Number')\n",
    "        return False\n",
    "        \n",
    "    "
   ]
  },
  {
   "cell_type": "code",
   "execution_count": 14,
   "metadata": {},
   "outputs": [],
   "source": [
    "#Function for validating user email id\n",
    "def isValidEmail(user_email):\n",
    "    if len(user_email)>7:\n",
    "        if re.match(\"^.+@(/[?)[a-zA-Z0-9-.]+.([a-zA-Z]{2,3}|[0-9]{1,3})(J?)$\",user_email) !=None:\n",
    "            return True\n",
    "        return False\n",
    "    else:\n",
    "        messagebox.showinfo('Information','This is not a valid email address ')\n",
    "        return False"
   ]
  },
  {
   "cell_type": "code",
   "execution_count": 15,
   "metadata": {},
   "outputs": [],
   "source": [
    "# Function for validating all other input fields\n",
    "#psw,confirmpsw,emailid,phoneno,country"
   ]
  },
  {
   "cell_type": "code",
   "execution_count": 16,
   "metadata": {},
   "outputs": [],
   "source": [
    "def validataAllFields():\n",
    "    if v_fName.get() == \"\":\n",
    "        messagebox.showinfo('Information','Please enter FullName to proceed')\n",
    "    elif v_pwd.get() == \"\":\n",
    "        messagebox.showinfo('Information','Please enter Password to proceed')\n",
    "    elif v_confirmpwd.get() == \"\":\n",
    "        messagebox.showinfo('Information','Please confirm password to proceed')\n",
    "    elif v_phoneno.get() == \"\":\n",
    "        messagebox.showinfo('Information','Please enter Phone Number to proceed')\n",
    "    elif len(v_PhoneNo.get()) !=10:\n",
    "        messagebox.showinfo('Information','Please enter 10 digit Phone Number to proceed')\n",
    "    elif v_emailId.get() == \"\":\n",
    "        messagebox.showinfo('Information','Please enter emailId to proceed')\n",
    "    elif v_gender.get() == 0:\n",
    "        messagebox.showinfo('Information','Please enter Gender to proceed')\n",
    "    elif v_country.get() == \"\" or v_country.get() == \"Select your country\":\n",
    "        messagebox.showinfo('Information','Please enter Country to proceed')\n",
    "    elif v_pwd.get() != v_confirmPwd.get():\n",
    "        messagebox.showinfo('Information','Password Mismatch')\n",
    "    elif v_emailId.get() != \"\":\n",
    "        status=isValidEmail(v_emailId.get())\n",
    "        if (status):\n",
    "            messagebox.showinfo('Information','User Registered Successfully')\n",
    "    else:\n",
    "         messagebox.showinfo('Information','User Registered Successfully')\n",
    "        \n",
    "                \n",
    "    \n",
    "        \n",
    "        "
   ]
  },
  {
   "cell_type": "code",
   "execution_count": 17,
   "metadata": {},
   "outputs": [],
   "source": [
    "#Function to clear all user inpsut in fields\n",
    "def clearAllFields():\n",
    "    v_fName.set(\"\")\n",
    "    v_Pwd.set(\"\")\n",
    "    v_confirmpwd.set(\"\")\n",
    "    v_phoneNo.set(\"\")\n",
    "    v_emailId.set(\"\")"
   ]
  },
  {
   "cell_type": "code",
   "execution_count": 18,
   "metadata": {},
   "outputs": [],
   "source": [
    "def callNewScreen():\n",
    "    window.destroy()\n",
    "    #Use os.system('SendEmail.py') if the file is in same location else use('python sendEmail.py')\n",
    "    os.system('python LoginScreen.py')\n",
    "\n",
    "    "
   ]
  },
  {
   "cell_type": "code",
   "execution_count": 19,
   "metadata": {},
   "outputs": [
    {
     "data": {
      "text/plain": [
       "''"
      ]
     },
     "execution_count": 19,
     "metadata": {},
     "output_type": "execute_result"
    }
   ],
   "source": [
    "#To create main window of app we use Tk class\n",
    "window=Tk()\n",
    "window.title(\"Welcome to User Registration Screen \")"
   ]
  },
  {
   "cell_type": "code",
   "execution_count": 25,
   "metadata": {},
   "outputs": [],
   "source": [
    "#window.geometry(),set the size of the window and window.configure(),set the background color.\n",
    "window.geometry('500x500')\n",
    "window.configure(background='light blue');"
   ]
  },
  {
   "cell_type": "code",
   "execution_count": null,
   "metadata": {},
   "outputs": [],
   "source": []
  }
 ],
 "metadata": {
  "kernelspec": {
   "display_name": "Python 3",
   "language": "python",
   "name": "python3"
  },
  "language_info": {
   "codemirror_mode": {
    "name": "ipython",
    "version": 3
   },
   "file_extension": ".py",
   "mimetype": "text/x-python",
   "name": "python",
   "nbconvert_exporter": "python",
   "pygments_lexer": "ipython3",
   "version": "3.7.6"
  }
 },
 "nbformat": 4,
 "nbformat_minor": 4
}
